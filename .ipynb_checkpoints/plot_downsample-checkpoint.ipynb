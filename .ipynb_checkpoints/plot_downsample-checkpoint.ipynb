{
  "cells": [
    {
      "cell_type": "code",
      "execution_count": null,
      "metadata": {
        "collapsed": false
      },
      "outputs": [],
      "source": [
        "%matplotlib inline"
      ]
    },
    {
      "cell_type": "markdown",
      "metadata": {},
      "source": [
        "\n# Downsample\nThe :class:`~tonic.transforms.Downsample` applies\nspatial and/or temporal factors to events.\n"
      ]
    },
    {
      "cell_type": "code",
      "execution_count": null,
      "metadata": {
        "collapsed": false
      },
      "outputs": [],
      "source": [
        "import tonic\n\nnmnist = tonic.datasets.NMNIST(\"../../tutorials/data\", train=False)\nevents, label = nmnist[0]\n\ntransform = tonic.transforms.Compose(\n    [\n        tonic.transforms.Downsample(spatial_factor=0.5),\n        tonic.transforms.ToFrame(\n            sensor_size=(17, 17, 2),\n            time_window=10000,\n        ),\n    ]\n)\n\nframes = transform(events)\n\nani = tonic.utils.plot_animation(frames)"
      ]
    }
  ],
  "metadata": {
    "kernelspec": {
      "display_name": "Python 3",
      "language": "python",
      "name": "python3"
    },
    "language_info": {
      "codemirror_mode": {
        "name": "ipython",
        "version": 3
      },
      "file_extension": ".py",
      "mimetype": "text/x-python",
      "name": "python",
      "nbconvert_exporter": "python",
      "pygments_lexer": "ipython3",
      "version": "3.7.9"
    }
  },
  "nbformat": 4,
  "nbformat_minor": 0
}