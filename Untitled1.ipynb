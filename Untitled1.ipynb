{
 "cells": [
  {
   "cell_type": "markdown",
   "id": "68bb3740-fa40-467a-b757-5171ecaba5a6",
   "metadata": {},
   "source": [
    "Test models"
   ]
  },
  {
   "cell_type": "code",
   "execution_count": null,
   "id": "27480c78-b457-4cce-aa87-4c83ce3ba357",
   "metadata": {},
   "outputs": [],
   "source": [
    "model = torch.load(\"model70.5.pt\").to(device)"
   ]
  },
  {
   "cell_type": "code",
   "execution_count": null,
   "id": "aa32cbf1-1fdf-4427-b93a-072273043a00",
   "metadata": {},
   "outputs": [],
   "source": [
    "w = [torch.load(f\"model{iii}.pt\").stdp_inshallah.weight for iii in [\"54.5\", \"59.5\", \"64.0\", \"65.5\", \"69.5\", \"70.5]]\n",
    "w = torch.stack(w)\n",
    "w.shape"
   ]
  },
  {
   "cell_type": "code",
   "execution_count": null,
   "id": "01a8192c-3857-42c0-87d6-c19e778218d9",
   "metadata": {},
   "outputs": [],
   "source": [
    "w = model.stdp_inshallah.weight\n",
    "w.shape"
   ]
  },
  {
   "cell_type": "code",
   "execution_count": null,
   "id": "d91c49ec-a48b-44fd-bf52-7e273c238a92",
   "metadata": {},
   "outputs": [],
   "source": [
    "quick_animate([w[0], w[1], w[2], w[3], w[4], w[5], w[6], w[7]], 3)"
   ]
  }
 ],
 "metadata": {
  "kernelspec": {
   "display_name": "Python 3 (ipykernel)",
   "language": "python",
   "name": "python3"
  },
  "language_info": {
   "codemirror_mode": {
    "name": "ipython",
    "version": 3
   },
   "file_extension": ".py",
   "mimetype": "text/x-python",
   "name": "python",
   "nbconvert_exporter": "python",
   "pygments_lexer": "ipython3",
   "version": "3.10.6"
  }
 },
 "nbformat": 4,
 "nbformat_minor": 5
}
